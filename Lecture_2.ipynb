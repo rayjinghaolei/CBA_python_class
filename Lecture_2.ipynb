{
  "nbformat": 4,
  "nbformat_minor": 0,
  "metadata": {
    "colab": {
      "name": "Lecture 2.ipynb",
      "provenance": [],
      "collapsed_sections": [],
      "authorship_tag": "ABX9TyMN1Wzw4IZD5L1yAWFfFy7p",
      "include_colab_link": true
    },
    "kernelspec": {
      "name": "python3",
      "display_name": "Python 3"
    },
    "language_info": {
      "name": "python"
    }
  },
  "cells": [
    {
      "cell_type": "markdown",
      "metadata": {
        "id": "view-in-github",
        "colab_type": "text"
      },
      "source": [
        "<a href=\"https://colab.research.google.com/github/rayjinghaolei/CBA_python_class/blob/master/Lecture_2.ipynb\" target=\"_parent\"><img src=\"https://colab.research.google.com/assets/colab-badge.svg\" alt=\"Open In Colab\"/></a>"
      ]
    },
    {
      "cell_type": "markdown",
      "metadata": {
        "id": "aOkJK6GSokDf"
      },
      "source": [
        "Turn on recordings!\n",
        "\n",
        "Brief review of yesterday!\n",
        "\n",
        "https://www.jetbrains.com/pycharm/\n",
        "\n",
        "https://code.visualstudio.com\n"
      ]
    },
    {
      "cell_type": "markdown",
      "metadata": {
        "id": "Pq4grAXqoOuS"
      },
      "source": [
        "# Strings\n",
        "\n",
        "## raw strings\n",
        "\n",
        "raw strings treat back slashes not as escape characters but just normal characters.\n"
      ]
    },
    {
      "cell_type": "code",
      "metadata": {
        "colab": {
          "base_uri": "https://localhost:8080/"
        },
        "id": "-dGFCk50l1ZL",
        "outputId": "92a82977-46f9-4ce0-9e82-414a12061b01"
      },
      "source": [
        "s1 = r'G:\\publish\\codes\\02\\2.4'\n",
        "print(s1)"
      ],
      "execution_count": 3,
      "outputs": [
        {
          "output_type": "stream",
          "text": [
            "G:\\publish\\codes\\02\\2.4\n"
          ],
          "name": "stdout"
        }
      ]
    },
    {
      "cell_type": "markdown",
      "metadata": {
        "id": "DcfnorUMpzj-"
      },
      "source": [
        "## Escape characters\n",
        "\n",
        "\\b means go back\n",
        "\n",
        "\\n means next line\n",
        "\n",
        "\\r means return\n",
        "\n",
        "\\t means tab\n",
        "\n",
        "\\\\\" means escape double quotation\n",
        "\n",
        "\\\\' means escape single quotation\n",
        "\n",
        "\\\\\\ means escapes back slash"
      ]
    },
    {
      "cell_type": "code",
      "metadata": {
        "colab": {
          "base_uri": "https://localhost:8080/"
        },
        "id": "__WWy4Zopyph",
        "outputId": "b142dd93-0a48-4cea-cab6-c588aa8ed80f"
      },
      "source": [
        "s = 'Hello\\nCharlie\\nGood\\nMorning'\n",
        "print(s)"
      ],
      "execution_count": 4,
      "outputs": [
        {
          "output_type": "stream",
          "text": [
            "Hello\n",
            "Charlie\n",
            "Good\n",
            "Morning\n"
          ],
          "name": "stdout"
        }
      ]
    },
    {
      "cell_type": "code",
      "metadata": {
        "colab": {
          "base_uri": "https://localhost:8080/"
        },
        "id": "a3SxbpAKqy8k",
        "outputId": "ea80b68a-1a6f-4cb7-8b7f-7d93110eafb2"
      },
      "source": [
        "s2 = 'item\\tprice\\tamount\\ttotal'\n",
        "s3 = 'coffee\\t2.5\\t2\\t5.0'\n",
        "\n",
        "print(s2)\n",
        "print(s3)"
      ],
      "execution_count": 9,
      "outputs": [
        {
          "output_type": "stream",
          "text": [
            "item\tprice\tamount\ttotal\n",
            "coffee\t2.5\t2\t5.0\n"
          ],
          "name": "stdout"
        }
      ]
    },
    {
      "cell_type": "code",
      "metadata": {
        "id": "kNI0XzVerMKm",
        "colab": {
          "base_uri": "https://localhost:8080/"
        },
        "outputId": "fa1333d1-49d0-4c89-f815-a82eb7ad110f"
      },
      "source": [
        "s_random = \"what\\bt\\'s \\tg\\\\\\boing \\'on\\'\\\\\"\n",
        "print(s_random)"
      ],
      "execution_count": 10,
      "outputs": [
        {
          "output_type": "stream",
          "text": [
            "what\bt's \tg\\\boing 'on'\\\n"
          ],
          "name": "stdout"
        }
      ]
    },
    {
      "cell_type": "markdown",
      "metadata": {
        "id": "psofuGdwsj-h"
      },
      "source": [
        "## String formatting\n",
        "\n",
        "python provides % for formatting a string, for example:"
      ]
    },
    {
      "cell_type": "code",
      "metadata": {
        "colab": {
          "base_uri": "https://localhost:8080/"
        },
        "id": "ZQwT8-oTsMC8",
        "outputId": "0d071b38-c7be-4ef6-fe94-09e0a0958b09"
      },
      "source": [
        "price = 108\n",
        "print(\"the book's price is %s \" %price)"
      ],
      "execution_count": 11,
      "outputs": [
        {
          "output_type": "stream",
          "text": [
            "the book's price is 108 \n"
          ],
          "name": "stdout"
        }
      ]
    },
    {
      "cell_type": "markdown",
      "metadata": {
        "id": "4x6ztkEmtLkT"
      },
      "source": [
        "%s is in this case a place holder\n",
        "\n",
        "%s is called conversion specifier\n",
        "\n"
      ]
    },
    {
      "cell_type": "code",
      "metadata": {
        "colab": {
          "base_uri": "https://localhost:8080/"
        },
        "id": "Y_G3jh4etGPK",
        "outputId": "cd679f24-7d48-46b4-b901-76321ae7ada0"
      },
      "source": [
        "name = \"Ray\"\n",
        "age = 21\n",
        "print('%s is a %s years old boy' %(name, age))"
      ],
      "execution_count": 12,
      "outputs": [
        {
          "output_type": "stream",
          "text": [
            "Ray is a 21 years old boy\n"
          ],
          "name": "stdout"
        }
      ]
    },
    {
      "cell_type": "markdown",
      "metadata": {
        "id": "h7RDgakEuTpy"
      },
      "source": [
        "%d, %i is for integer in base 10\n",
        "\n",
        "%o is for integer in base 8\n",
        "\n",
        "%x is for integer in base 16\n",
        "\n",
        "%e is for floating point number with scientific notation\n",
        "\n",
        "%f, %F is for floating point number\n",
        "\n",
        "%C is for converting to a single character\n"
      ]
    },
    {
      "cell_type": "code",
      "metadata": {
        "colab": {
          "base_uri": "https://localhost:8080/"
        },
        "id": "ZSYyWXIHvI8B",
        "outputId": "b77dbd0d-9949-4008-b490-36f149f02084"
      },
      "source": [
        "print(\"3.14 is usually denoted as %c%c\" % ('P','I'))\n",
        "print(\"%f is usually denoted as PI\" % 3.14)\n",
        "print(\"%e-2 is usually denoted as PI * 100\" % 3.14)"
      ],
      "execution_count": 15,
      "outputs": [
        {
          "output_type": "stream",
          "text": [
            "3.14 is usually denoted as PI\n",
            "3.140000 is usually denoted as PI\n",
            "3.140000e+00-2 is usually denoted as PI * 100\n"
          ],
          "name": "stdout"
        }
      ]
    },
    {
      "cell_type": "markdown",
      "metadata": {
        "id": "MraKk6G0wmkE"
      },
      "source": [
        "for floating point numbers, we can specifing how many digits of decimal is reserved \n",
        "\n",
        "%-+08.4f\n",
        "\n",
        "8 means the minimum length to be replaced\n",
        "\n",
        "0 means pad 0 in the front\n",
        "\n",
        "\\+ means the sign of the number is added\n",
        "\n",
        " \\- means the replaced text is left aligned\n",
        "\n",
        " the number 4 after decimal point means 4 digits of decimal places is reserved\n"
      ]
    },
    {
      "cell_type": "code",
      "metadata": {
        "colab": {
          "base_uri": "https://localhost:8080/"
        },
        "id": "hj5vfsqAvSUU",
        "outputId": "d0c99d14-c1eb-43cd-b799-12f861fbc9bc"
      },
      "source": [
        "print(\"%f is usually denoted as PI\" % 3.1415926)\n",
        "print(\"%10f is usually denoted as PI\" % 3.14)\n",
        "print(\"%010f is usually denoted as PI\" % 3.14)\n",
        "print(\"%+010f is usually denoted as PI\" % 3.14)\n",
        "print(\"%-+010.4f is usually denoted as PI\" % -3.1415926)"
      ],
      "execution_count": 29,
      "outputs": [
        {
          "output_type": "stream",
          "text": [
            "3.141593 is usually denoted as PI\n",
            "  3.140000 is usually denoted as PI\n",
            "003.140000 is usually denoted as PI\n",
            "+03.140000 is usually denoted as PI\n",
            "-3.1416    is usually denoted as PI\n"
          ],
          "name": "stdout"
        }
      ]
    },
    {
      "cell_type": "code",
      "metadata": {
        "colab": {
          "base_uri": "https://localhost:8080/"
        },
        "id": "5oXtW91irc4f",
        "outputId": "8f5e8423-1f90-4dfd-b2f9-946893c1d2dc"
      },
      "source": [
        "print(\"%-8.4f is usually denoted as PI\" % 3.1415926)"
      ],
      "execution_count": 41,
      "outputs": [
        {
          "output_type": "stream",
          "text": [
            "3.1416   is usually denoted as PI\n"
          ],
          "name": "stdout"
        }
      ]
    },
    {
      "cell_type": "markdown",
      "metadata": {
        "id": "qRlqI0Au0onk"
      },
      "source": [
        "Exercise: print my_value with 10 minimum length, sign included, padding with 0 and 5 decimal numbers\n"
      ]
    },
    {
      "cell_type": "code",
      "metadata": {
        "colab": {
          "base_uri": "https://localhost:8080/"
        },
        "id": "iKNl4xiMxHpd",
        "outputId": "a42d39d2-639d-4bb4-ea13-fa5544983d27"
      },
      "source": [
        "my_value = 2.71828 #e\n",
        "print(\"my_value is %+010.5f\" %my_value)"
      ],
      "execution_count": 43,
      "outputs": [
        {
          "output_type": "stream",
          "text": [
            "my_value is +002.71828\n"
          ],
          "name": "stdout"
        }
      ]
    },
    {
      "cell_type": "markdown",
      "metadata": {
        "id": "yTWH58Vg1-Pw"
      },
      "source": [
        "## Treat string as series or list using index\n",
        "\n"
      ]
    },
    {
      "cell_type": "markdown",
      "metadata": {
        "id": "Ly1dKLJg2nKW"
      },
      "source": [
        "you can access a char in string using index"
      ]
    },
    {
      "cell_type": "code",
      "metadata": {
        "colab": {
          "base_uri": "https://localhost:8080/"
        },
        "id": "0207P1jx1p3P",
        "outputId": "2ab3147f-e9e3-497c-edf4-1b37cae83d18"
      },
      "source": [
        "s = 'Python is the best language'\n",
        "print(s[0])\n",
        "print(s[6])\n",
        "print(s[-1])\n",
        "print(s[-8])\n",
        "print(s[-13])"
      ],
      "execution_count": 48,
      "outputs": [
        {
          "output_type": "stream",
          "text": [
            "P\n",
            " \n",
            "e\n",
            "l\n",
            "b\n"
          ],
          "name": "stdout"
        }
      ]
    },
    {
      "cell_type": "markdown",
      "metadata": {
        "id": "DWa6Y0gZ2wZg"
      },
      "source": [
        "you can also get a substring using this method"
      ]
    },
    {
      "cell_type": "code",
      "metadata": {
        "colab": {
          "base_uri": "https://localhost:8080/"
        },
        "id": "CQO_qRQG2TUs",
        "outputId": "d3e8c3e6-9128-45b3-a967-09884421e229"
      },
      "source": [
        "print(s[0:5]) #include left not include right\n",
        "print(s[0:-8])\n",
        "print(s[-13:-9])"
      ],
      "execution_count": 49,
      "outputs": [
        {
          "output_type": "stream",
          "text": [
            "Pytho\n",
            "Python is the best \n",
            "best\n"
          ],
          "name": "stdout"
        }
      ]
    },
    {
      "cell_type": "markdown",
      "metadata": {
        "id": "9Bmh0_I63fET"
      },
      "source": [
        "You can also omit the starting index or ending index\n",
        "\n",
        "if you omit starting index, the substring starts from the beginning\n",
        "\n",
        "if you omit ending index, the substring ends until the end of string"
      ]
    },
    {
      "cell_type": "code",
      "metadata": {
        "colab": {
          "base_uri": "https://localhost:8080/"
        },
        "id": "h7IEFDXE3D2K",
        "outputId": "ecd095ea-c63b-4516-a348-05c6d949a9fb"
      },
      "source": [
        "print(s[7:])\n",
        "print(s[-8:])\n",
        "print(s[:13])\n",
        "print(s[:-8])"
      ],
      "execution_count": null,
      "outputs": [
        {
          "output_type": "stream",
          "text": [
            "is the best language\n",
            "language\n",
            "Python is the\n",
            "Python is the best \n"
          ],
          "name": "stdout"
        }
      ]
    },
    {
      "cell_type": "markdown",
      "metadata": {
        "id": "xWddA3_84ZIo"
      },
      "source": [
        "You can use 'in' operator to check if a substring in a string"
      ]
    },
    {
      "cell_type": "code",
      "metadata": {
        "colab": {
          "base_uri": "https://localhost:8080/"
        },
        "id": "xYEC55K-3_Lw",
        "outputId": "53779aea-32e9-49d2-a45c-c5762360ebb5"
      },
      "source": [
        "print('Python' in s)\n",
        "print('mad' in s)"
      ],
      "execution_count": 50,
      "outputs": [
        {
          "output_type": "stream",
          "text": [
            "True\n",
            "True\n"
          ],
          "name": "stdout"
        }
      ]
    },
    {
      "cell_type": "markdown",
      "metadata": {
        "id": "NGBejt8z4oSZ"
      },
      "source": [
        "You can get the length if a string"
      ]
    },
    {
      "cell_type": "code",
      "metadata": {
        "colab": {
          "base_uri": "https://localhost:8080/"
        },
        "id": "ZuiYkU454htg",
        "outputId": "a62abd81-13f2-4332-c2cd-b08c96d6b84e"
      },
      "source": [
        "print(len(s))"
      ],
      "execution_count": 51,
      "outputs": [
        {
          "output_type": "stream",
          "text": [
            "27\n"
          ],
          "name": "stdout"
        }
      ]
    },
    {
      "cell_type": "markdown",
      "metadata": {
        "id": "sqW7o_O_4zsx"
      },
      "source": [
        "You can get the max char and min char in a string\n",
        "\n",
        "refer to https://www.asciitable.com"
      ]
    },
    {
      "cell_type": "code",
      "metadata": {
        "colab": {
          "base_uri": "https://localhost:8080/"
        },
        "id": "Fl7gkf0m4tl6",
        "outputId": "5d86510e-40d6-4c40-cc2c-60a8958835bc"
      },
      "source": [
        "print(max(s))\n",
        "print(min(s))"
      ],
      "execution_count": 52,
      "outputs": [
        {
          "output_type": "stream",
          "text": [
            "y\n",
            " \n"
          ],
          "name": "stdout"
        }
      ]
    },
    {
      "cell_type": "markdown",
      "metadata": {
        "id": "aBI-cayZ6Gak"
      },
      "source": [
        "title capitalizes first character of each word\n",
        "\n",
        "lower lowers every character\n",
        "\n",
        "upper capitalizes every character"
      ]
    },
    {
      "cell_type": "code",
      "metadata": {
        "colab": {
          "base_uri": "https://localhost:8080/"
        },
        "id": "3BKpOOmH5SXk",
        "outputId": "22ee31de-d1e4-4d5b-aa8c-fa8a36664743"
      },
      "source": [
        "print(s.title())\n",
        "print(s.lower())\n",
        "print(s.upper())"
      ],
      "execution_count": null,
      "outputs": [
        {
          "output_type": "stream",
          "text": [
            "Python Is The Best Language\n",
            "python is the best language\n",
            "PYTHON IS THE BEST LANGUAGE\n"
          ],
          "name": "stdout"
        }
      ]
    },
    {
      "cell_type": "markdown",
      "metadata": {
        "id": "LxhorZQB6k5V"
      },
      "source": [
        "## Deleting white spaces"
      ]
    },
    {
      "cell_type": "code",
      "metadata": {
        "colab": {
          "base_uri": "https://localhost:8080/"
        },
        "id": "Qob5tI3L58-0",
        "outputId": "6a8e6969-7979-46ad-e2ff-3e1615b287df"
      },
      "source": [
        "s = '   this is a puppy   '\n",
        "print(s.lstrip())\n",
        "print(s.rstrip())\n",
        "print(s.strip())\n",
        "#s = s.strip()\n",
        "print(s) # the value of s is not changed"
      ],
      "execution_count": 54,
      "outputs": [
        {
          "output_type": "stream",
          "text": [
            "this is a puppy   \n",
            "   this is a puppy\n",
            "this is a puppy\n",
            "   this is a puppy   \n"
          ],
          "name": "stdout"
        }
      ]
    },
    {
      "cell_type": "markdown",
      "metadata": {
        "id": "fDh6azC_7UR4"
      },
      "source": [
        "## Search and delete"
      ]
    },
    {
      "cell_type": "markdown",
      "metadata": {
        "id": "V3XHL-cf7ZSI"
      },
      "source": [
        "startswith() checks if a string starts with a specific substring\n",
        "\n",
        "endswith() checks if a string ends with a specific substring\n",
        "\n",
        "find() checks the position of a substring, if not found, then return -1\n",
        "\n",
        "index() tries to find the position of a substring, if not found, then trigger ValueError\n",
        "\n",
        "replace() replaces the a specific substring with another substring\n",
        "\n",
        "\n",
        "\n"
      ]
    },
    {
      "cell_type": "code",
      "metadata": {
        "colab": {
          "base_uri": "https://localhost:8080/"
        },
        "id": "GcvKijOS6yL3",
        "outputId": "70326939-eb2e-49b2-d9b5-1d546b1ec759"
      },
      "source": [
        "s = 'Python is the best language'\n",
        "print(s.startswith('Python'))\n",
        "print(s.endswith('language'))\n",
        "print(s.find('e',13))\n",
        "print(s.index('best'))\n",
        "print(s[20])\n",
        "print(s.find('best',20)) # starting from index 20\n",
        "#print(s.index('best',20)) # starting from index 20"
      ],
      "execution_count": 65,
      "outputs": [
        {
          "output_type": "stream",
          "text": [
            "True\n",
            "True\n",
            "15\n",
            "14\n",
            "a\n",
            "-1\n"
          ],
          "name": "stdout"
        }
      ]
    },
    {
      "cell_type": "code",
      "metadata": {
        "colab": {
          "base_uri": "https://localhost:8080/"
        },
        "id": "8wKBh_Sq9OvJ",
        "outputId": "76b2eae1-1aed-456e-d353-061e3c2f44e9"
      },
      "source": [
        "print(s.replace('Python','Java'))"
      ],
      "execution_count": 60,
      "outputs": [
        {
          "output_type": "stream",
          "text": [
            "Java is the best language\n"
          ],
          "name": "stdout"
        }
      ]
    },
    {
      "cell_type": "markdown",
      "metadata": {
        "id": "YWLlICiOGtMY"
      },
      "source": [
        "## Split and join"
      ]
    },
    {
      "cell_type": "code",
      "metadata": {
        "colab": {
          "base_uri": "https://localhost:8080/"
        },
        "id": "JVDsUkG2GwZx",
        "outputId": "d2055a26-7790-46b6-c6ed-232231f9020e"
      },
      "source": [
        "my_str = s.split('e')\n",
        "print(my_str)\n",
        "my_str = s.split()\n",
        "print(my_str)\n",
        "print('?'.join(my_str))"
      ],
      "execution_count": 62,
      "outputs": [
        {
          "output_type": "stream",
          "text": [
            "['Python is th', ' b', 'st languag', '']\n",
            "['Python', 'is', 'the', 'best', 'language']\n",
            "Python?is?the?best?language\n"
          ],
          "name": "stdout"
        }
      ]
    },
    {
      "cell_type": "code",
      "metadata": {
        "id": "cEKTDbUc9sAQ"
      },
      "source": [
        "sample_text = 'Python’s simplicity lets you become productive quickly, but this often means you aren’t using everything it has to offer. With this hands-on guide, you’ll learn how to write effective, idiomatic Python code by leveraging its best—and possibly most neglected—features. Author Luciano Ramalho takes you through Python’s core language features and libraries, and shows you how to make your code shorter, faster, and more readable at the same time.'"
      ],
      "execution_count": 68,
      "outputs": []
    },
    {
      "cell_type": "markdown",
      "metadata": {
        "id": "IZkRfK3LAZSt"
      },
      "source": [
        "Exercise: find the first substring 'Python' on the second half of the string, and then replace it with 'C++'\n",
        "\n",
        "hint: the idea of integer division is to do division in a normal way but only keep the integer part of the answer, this can be done by doing a // n where n is the number that you want to divide"
      ]
    },
    {
      "cell_type": "code",
      "metadata": {
        "id": "kVfQdJl0-5iS",
        "colab": {
          "base_uri": "https://localhost:8080/"
        },
        "outputId": "850b1049-dd80-484d-df09-70dbb2af22f2"
      },
      "source": [
        "start_python = sample_text.find('Python',len(sample_text)//2)\n",
        "print(sample_text[:309] + \"C++\" + sample_text[(309 + 6):])"
      ],
      "execution_count": 71,
      "outputs": [
        {
          "output_type": "stream",
          "text": [
            "Python’s simplicity lets you become productive quickly, but this often means you aren’t using everything it has to offer. With this hands-on guide, you’ll learn how to write effective, idiomatic Python code by leveraging its best—and possibly most neglected—features. Author Luciano Ramalho takes you through C++’s core language features and libraries, and shows you how to make your code shorter, faster, and more readable at the same time.\n"
          ],
          "name": "stdout"
        }
      ]
    },
    {
      "cell_type": "markdown",
      "metadata": {
        "id": "GUJJGpa7F0ye"
      },
      "source": [
        "Exercise: Write a Python program to get a single string from two given strings, separated by a space and swap the first two characters of each string.\n",
        "\n",
        "Sample String : 'abc', 'xyz' \n",
        "\n",
        "Expected Result : 'xyc abz'\n"
      ]
    },
    {
      "cell_type": "code",
      "metadata": {
        "id": "SyZeMi1C_Ozr",
        "colab": {
          "base_uri": "https://localhost:8080/"
        },
        "outputId": "06334c76-a90f-4ffc-ffe9-351765e05b07"
      },
      "source": [
        "s1 = input('first string: ')\n",
        "s2 = input('second string: ')\n",
        "\n",
        "print(s2[0:2] + s1[2:] + ' ' + s1[0:2] + s2[2:])\n"
      ],
      "execution_count": 67,
      "outputs": [
        {
          "output_type": "stream",
          "text": [
            "first string: abc\n",
            "second string: xyz\n",
            "xyc abz\n"
          ],
          "name": "stdout"
        }
      ]
    },
    {
      "cell_type": "markdown",
      "metadata": {
        "id": "N3c623sjIS3F"
      },
      "source": [
        "Exercise: Write a Python script that takes input from the user and displays that input back in upper and lower cases."
      ]
    },
    {
      "cell_type": "code",
      "metadata": {
        "id": "HhUBsSrzGKgd",
        "colab": {
          "base_uri": "https://localhost:8080/"
        },
        "outputId": "37d3e496-d852-4aa0-f569-d3f236dc27ae"
      },
      "source": [
        "s1 = input('input a string: ')\n",
        "print(s1.upper())\n",
        "print(s1.lower())"
      ],
      "execution_count": 72,
      "outputs": [
        {
          "output_type": "stream",
          "text": [
            "input a string: Alex\n",
            "ALEX\n",
            "alex\n"
          ],
          "name": "stdout"
        }
      ]
    },
    {
      "cell_type": "code",
      "metadata": {
        "id": "mQPfrT-DGaSd"
      },
      "source": [
        ""
      ],
      "execution_count": null,
      "outputs": []
    }
  ]
}