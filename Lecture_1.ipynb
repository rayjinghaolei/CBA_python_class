{
  "nbformat": 4,
  "nbformat_minor": 0,
  "metadata": {
    "colab": {
      "name": "Lecture 1.ipynb",
      "provenance": [],
      "authorship_tag": "ABX9TyNb5URkjbEBbEC5Q0q7fW1L",
      "include_colab_link": true
    },
    "kernelspec": {
      "name": "python3",
      "display_name": "Python 3"
    },
    "language_info": {
      "name": "python"
    }
  },
  "cells": [
    {
      "cell_type": "markdown",
      "metadata": {
        "id": "view-in-github",
        "colab_type": "text"
      },
      "source": [
        "<a href=\"https://colab.research.google.com/github/rayjinghaolei/CBA_python_class/blob/master/Lecture_1.ipynb\" target=\"_parent\"><img src=\"https://colab.research.google.com/assets/colab-badge.svg\" alt=\"Open In Colab\"/></a>"
      ]
    },
    {
      "cell_type": "markdown",
      "metadata": {
        "id": "VJFaMGWaSIIP"
      },
      "source": [
        "Install python 3\n",
        "\n",
        "https://www.python.org/downloads/\n",
        "\n",
        "https://www.microsoft.com/en-ca/search?q=python"
      ]
    },
    {
      "cell_type": "markdown",
      "metadata": {
        "id": "zHmQcmoEJCD6"
      },
      "source": [
        "# Running Your first Python program!"
      ]
    },
    {
      "cell_type": "markdown",
      "metadata": {
        "id": "NVMo9GxTHpwg"
      },
      "source": [
        "Python can be used as an interactive intepretor\n",
        "\n",
        "5 ** 3 only does computation but the result is not stored\n"
      ]
    },
    {
      "cell_type": "code",
      "metadata": {
        "colab": {
          "base_uri": "https://localhost:8080/"
        },
        "id": "XzYaZM0rGlwJ",
        "outputId": "8b24e47b-7527-45e8-daf7-ae0290185893"
      },
      "source": [
        "5 ** 3"
      ],
      "execution_count": 4,
      "outputs": [
        {
          "output_type": "execute_result",
          "data": {
            "text/plain": [
              "125"
            ]
          },
          "metadata": {
            "tags": []
          },
          "execution_count": 4
        }
      ]
    },
    {
      "cell_type": "markdown",
      "metadata": {
        "id": "6l2QtqMgIQBi"
      },
      "source": [
        "But if you assign it into a variable, then you can assess it later when calling this variable\n",
        "\n",
        "This seperate colon is there just to demonstrate the functionality of the print function: it can deal with multiple stuff that you want to output using comma"
      ]
    },
    {
      "cell_type": "code",
      "metadata": {
        "colab": {
          "base_uri": "https://localhost:8080/"
        },
        "id": "LP5KIC30G0uP",
        "outputId": "23ec4036-f4e0-4e17-8ac8-bc3fecfa5736"
      },
      "source": [
        "a = 5 ** 3\n",
        "print('a has the value',': ', a)"
      ],
      "execution_count": 5,
      "outputs": [
        {
          "output_type": "stream",
          "text": [
            "a has the value :  125\n"
          ],
          "name": "stdout"
        }
      ]
    },
    {
      "cell_type": "markdown",
      "metadata": {
        "id": "TWq3rCC8JWOV"
      },
      "source": [
        "# Single line comments and multiple line comments"
      ]
    },
    {
      "cell_type": "code",
      "metadata": {
        "colab": {
          "base_uri": "https://localhost:8080/"
        },
        "id": "v2_lVFDaHKmh",
        "outputId": "e5fc4640-73e8-45b1-9c47-2ed87b25bc62"
      },
      "source": [
        "# This is a single line of comments\n",
        "'''\n",
        "This is a multiple line comments\n",
        "it is using three ' s\n",
        "You can write any thing that might help others to understand your code\n",
        "'''\n",
        "print('This is a line of code that will be actually ran')\n",
        "# print('This line is commented out using single line comment')\n",
        "# commenting things out is a basic way to debug your program"
      ],
      "execution_count": null,
      "outputs": [
        {
          "output_type": "stream",
          "text": [
            "This is a line of code that will be actually ran\n"
          ],
          "name": "stdout"
        }
      ]
    },
    {
      "cell_type": "markdown",
      "metadata": {
        "id": "VHXE3an_LDzy"
      },
      "source": [
        "# Variables\n",
        "You might have studied different types of variables in other languages, those types are very similar in Python.\n",
        "\n",
        "But, when declearing a variable, there is no type specifier in front of the variable.\n",
        "\n",
        "Unlike in language like java or C (which you would do:\n",
        "\n",
        "```\n",
        "int a = 1;\n",
        "```\n",
        "in python you will just do \n",
        "\n",
        "\n",
        "```\n",
        "a = 1\n",
        "```\n",
        "\n",
        "\n",
        "\n",
        "\n"
      ]
    },
    {
      "cell_type": "markdown",
      "metadata": {
        "id": "PvRqKOE3cfn4"
      },
      "source": [
        "type() function returns the type of the variable\n"
      ]
    },
    {
      "cell_type": "code",
      "metadata": {
        "colab": {
          "base_uri": "https://localhost:8080/"
        },
        "id": "BRiceJP-KNjG",
        "outputId": "db8bbc5a-1996-4ade-d1ab-75cdcb688beb"
      },
      "source": [
        "a = 1\n",
        "print(a)\n",
        "print(type(a))\n",
        "a = 'a'\n",
        "print(a)\n",
        "print(type(a))"
      ],
      "execution_count": null,
      "outputs": [
        {
          "output_type": "stream",
          "text": [
            "1\n",
            "<class 'int'>\n",
            "a\n",
            "<class 'str'>\n"
          ],
          "name": "stdout"
        }
      ]
    },
    {
      "cell_type": "markdown",
      "metadata": {
        "id": "anr5bMnfoaxh"
      },
      "source": [
        "# Constants"
      ]
    },
    {
      "cell_type": "code",
      "metadata": {
        "colab": {
          "base_uri": "https://localhost:8080/"
        },
        "id": "273KI0XYodle",
        "outputId": "3fbeb139-e2ea-4985-d467-495df3c3063f"
      },
      "source": [
        "CONSTANT_PI = 3.14\n",
        "print(CONSTANT_PI) "
      ],
      "execution_count": 6,
      "outputs": [
        {
          "output_type": "stream",
          "text": [
            "3.14\n"
          ],
          "name": "stdout"
        }
      ]
    },
    {
      "cell_type": "markdown",
      "metadata": {
        "id": "0GkUFwEcatv1"
      },
      "source": [
        "# Print function\n",
        "https://www.w3schools.com/python/ref_func_print.asp\n",
        "\n",
        "\n",
        "\n",
        "```\n",
        "print(object(s), sep=separator, end=end, file=file, flush=flush)\n",
        "```\n",
        "\n",
        "\n"
      ]
    },
    {
      "cell_type": "code",
      "metadata": {
        "colab": {
          "base_uri": "https://localhost:8080/"
        },
        "id": "bYvWkqE8aD7D",
        "outputId": "233d016f-0707-46fb-e0d1-2a256465b6fe"
      },
      "source": [
        "username = 'Ray'\n",
        "age = 21\n",
        "\n",
        "print('username:', username, 'age:', age, sep='|',end='\\n')"
      ],
      "execution_count": 10,
      "outputs": [
        {
          "output_type": "stream",
          "text": [
            "username:|Ray|age:|21\n"
          ],
          "name": "stdout"
        }
      ]
    },
    {
      "cell_type": "markdown",
      "metadata": {
        "id": "Rgfs9QSiciov"
      },
      "source": [
        "# Variable Naming Convention\n",
        "1. a variable can be name using alphabets, numbers and underscores (ABC_123)\n",
        "2. cannot be a keyword in python, but you can include keywords ('if' is a keyword, but you can name a variable called whatif)\n",
        "3. space is not allowed (variable name: NOT Allowed is not allowed as a variable )\n"
      ]
    },
    {
      "cell_type": "code",
      "metadata": {
        "id": "dviw8r_zcPHN"
      },
      "source": [
        "ABC_123 = 'a string'\n",
        "whatif = 'what if it happened'\n",
        "#NOT ALLOWED = 'not allowed'\n",
        "isAllowed = 'allowed'\n",
        "iAmTwentyYearOld = True\n",
        "i_am_twenty_year_old = True"
      ],
      "execution_count": 13,
      "outputs": []
    },
    {
      "cell_type": "markdown",
      "metadata": {
        "id": "ag2Wfn-PeBgY"
      },
      "source": [
        "To check the list of keyword:\n"
      ]
    },
    {
      "cell_type": "code",
      "metadata": {
        "colab": {
          "base_uri": "https://localhost:8080/"
        },
        "id": "g4ecEnyuduDN",
        "outputId": "ede25976-0f4b-490c-d602-072077ba68b1"
      },
      "source": [
        "import keyword\n",
        "keyword.kwlist"
      ],
      "execution_count": null,
      "outputs": [
        {
          "output_type": "execute_result",
          "data": {
            "text/plain": [
              "['False',\n",
              " 'None',\n",
              " 'True',\n",
              " 'and',\n",
              " 'as',\n",
              " 'assert',\n",
              " 'async',\n",
              " 'await',\n",
              " 'break',\n",
              " 'class',\n",
              " 'continue',\n",
              " 'def',\n",
              " 'del',\n",
              " 'elif',\n",
              " 'else',\n",
              " 'except',\n",
              " 'finally',\n",
              " 'for',\n",
              " 'from',\n",
              " 'global',\n",
              " 'if',\n",
              " 'import',\n",
              " 'in',\n",
              " 'is',\n",
              " 'lambda',\n",
              " 'nonlocal',\n",
              " 'not',\n",
              " 'or',\n",
              " 'pass',\n",
              " 'raise',\n",
              " 'return',\n",
              " 'try',\n",
              " 'while',\n",
              " 'with',\n",
              " 'yield']"
            ]
          },
          "metadata": {
            "tags": []
          },
          "execution_count": 15
        }
      ]
    },
    {
      "cell_type": "markdown",
      "metadata": {
        "id": "lcNXbN8selxP"
      },
      "source": [
        "### Internal functions: (do not create functions with name like those)\n",
        "\n",
        "https://docs.python.org/3/library/functions.html"
      ]
    },
    {
      "cell_type": "markdown",
      "metadata": {
        "id": "wqp__dM7fHMw"
      },
      "source": [
        "# Variable types\n",
        "## Integers"
      ]
    },
    {
      "cell_type": "markdown",
      "metadata": {
        "id": "ygCWeJRRgA2d"
      },
      "source": [
        "No upper limit\n"
      ]
    },
    {
      "cell_type": "code",
      "metadata": {
        "colab": {
          "base_uri": "https://localhost:8080/"
        },
        "id": "8i1w_Zz5eLpq",
        "outputId": "52f1ec10-cecd-490b-d152-adf3ac106ac5"
      },
      "source": [
        "a = 1\n",
        "print(a)\n",
        "print(type(a))\n",
        "a = 99999999999999999999999999999\n",
        "print(a)\n",
        "print(type(a))"
      ],
      "execution_count": 14,
      "outputs": [
        {
          "output_type": "stream",
          "text": [
            "1\n",
            "<class 'int'>\n",
            "99999999999999999999999999999\n",
            "<class 'int'>\n"
          ],
          "name": "stdout"
        }
      ]
    },
    {
      "cell_type": "markdown",
      "metadata": {
        "id": "UAOHIi1igDu2"
      },
      "source": [
        "integers in different bases\n"
      ]
    },
    {
      "cell_type": "code",
      "metadata": {
        "colab": {
          "base_uri": "https://localhost:8080/"
        },
        "id": "XZ54p7d8fX_e",
        "outputId": "ef9e684e-2223-4ebb-ab78-fec8f5219153"
      },
      "source": [
        "#hexadecimal, base 16 0123456789ABCDEF\n",
        "hex = 0xA\n",
        "print(hex)\n",
        "print(type(hex))\n",
        "\n",
        "#binary, base 2\n",
        "bin = 0b111\n",
        "print(bin)\n",
        "print(type(bin))\n",
        "\n",
        "#Octal, base 8\n",
        "oct = 0o17\n",
        "print(oct)\n",
        "print(type(oct))"
      ],
      "execution_count": 16,
      "outputs": [
        {
          "output_type": "stream",
          "text": [
            "10\n",
            "<class 'int'>\n",
            "7\n",
            "<class 'int'>\n",
            "15\n",
            "<class 'int'>\n"
          ],
          "name": "stdout"
        }
      ]
    },
    {
      "cell_type": "markdown",
      "metadata": {
        "id": "5WmIhEyFgtOM"
      },
      "source": [
        "Readbility"
      ]
    },
    {
      "cell_type": "code",
      "metadata": {
        "colab": {
          "base_uri": "https://localhost:8080/"
        },
        "id": "jEnus34VgLoN",
        "outputId": "6c93bbdf-ffbb-4fc5-8f44-5d02d2a25609"
      },
      "source": [
        "# 1,000,000\n",
        "million = 1_000_000\n",
        "print(million)\n",
        "print(type(million))"
      ],
      "execution_count": 18,
      "outputs": [
        {
          "output_type": "stream",
          "text": [
            "1000000\n",
            "<class 'int'>\n"
          ],
          "name": "stdout"
        }
      ]
    },
    {
      "cell_type": "markdown",
      "metadata": {
        "id": "TTwR73Zqg-Bz"
      },
      "source": [
        "## Float / Floating point number"
      ]
    },
    {
      "cell_type": "code",
      "metadata": {
        "colab": {
          "base_uri": "https://localhost:8080/"
        },
        "id": "YD1GRD1Mg0tX",
        "outputId": "6a689de3-8aa2-439b-d799-c49cd506b869"
      },
      "source": [
        "f1 = 3.1415\n",
        "print(f1)\n",
        "print(type(f1))\n",
        "# 3.12e4 = 3.12 * 10 ^ 4\n",
        "f2 = 3e4\n",
        "print(f2)\n",
        "print(type(f2))"
      ],
      "execution_count": 19,
      "outputs": [
        {
          "output_type": "stream",
          "text": [
            "3.1415\n",
            "<class 'float'>\n",
            "30000.0\n",
            "<class 'float'>\n"
          ],
          "name": "stdout"
        }
      ]
    },
    {
      "cell_type": "markdown",
      "metadata": {
        "id": "jeCsklamiJZs"
      },
      "source": [
        "## String"
      ]
    },
    {
      "cell_type": "code",
      "metadata": {
        "colab": {
          "base_uri": "https://localhost:8080/"
        },
        "id": "FGFmxOolhJVt",
        "outputId": "61907db8-632a-458b-9865-93ca2f4d9aa2"
      },
      "source": [
        "str1 = 'one string'\n",
        "print(str1)\n",
        "str2 = \"another string\"\n",
        "print(str2)\n",
        "#str3 = 'I'm a coder'\n",
        "str4 = 'I\\'m a coder'\n",
        "print(str4)\n",
        "str5 = \"I'm a coder\"\n",
        "print(str5)\n",
        "\n",
        "str6 = str1 + ' and ' + str2\n",
        "print(str6)\n"
      ],
      "execution_count": 22,
      "outputs": [
        {
          "output_type": "stream",
          "text": [
            "one string\n",
            "another string\n",
            "I'm a coder\n",
            "I'm a coder\n",
            "one string and another string\n"
          ],
          "name": "stdout"
        }
      ]
    },
    {
      "cell_type": "code",
      "metadata": {
        "colab": {
          "base_uri": "https://localhost:8080/"
        },
        "id": "QkIuHidljDjB",
        "outputId": "78120fa7-8759-498d-ca30-cc3ef12220ad"
      },
      "source": [
        "#str7 = str1 + 'means' + 1 + 'string'\n",
        "str7 = str1 + ' means ' + '1' + ' string'\n",
        "print(str7)"
      ],
      "execution_count": 25,
      "outputs": [
        {
          "output_type": "stream",
          "text": [
            "one string means 1 string\n"
          ],
          "name": "stdout"
        }
      ]
    },
    {
      "cell_type": "markdown",
      "metadata": {
        "id": "G-Fiii0Jk3Ct"
      },
      "source": [
        "## Booleans"
      ]
    },
    {
      "cell_type": "code",
      "metadata": {
        "colab": {
          "base_uri": "https://localhost:8080/"
        },
        "id": "X78SeoPXjVUU",
        "outputId": "af2146d3-1b4d-48c1-f482-67b9f3ae6579"
      },
      "source": [
        "right = True\n",
        "print(right)\n",
        "print(type(right))\n",
        "print(right == 1) #right == 1   ===  right\n",
        "wrong = False\n",
        "print(wrong)\n",
        "print(wrong == 0)"
      ],
      "execution_count": 28,
      "outputs": [
        {
          "output_type": "stream",
          "text": [
            "True\n",
            "<class 'bool'>\n",
            "True\n",
            "False\n",
            "True\n"
          ],
          "name": "stdout"
        }
      ]
    },
    {
      "cell_type": "markdown",
      "metadata": {
        "id": "EY7RTcbUrYJh"
      },
      "source": [
        "# User input"
      ]
    },
    {
      "cell_type": "code",
      "metadata": {
        "colab": {
          "base_uri": "https://localhost:8080/"
        },
        "id": "T5eUJ7AllBRX",
        "outputId": "038308b9-d2ea-4b15-ee81-f8f799f153b3"
      },
      "source": [
        "msg = input('input a message: ') # try string, int, float\n",
        "print(msg)\n",
        "print(type(msg))"
      ],
      "execution_count": 31,
      "outputs": [
        {
          "output_type": "stream",
          "text": [
            "input a message: 3.14\n",
            "3.14\n",
            "<class 'str'>\n"
          ],
          "name": "stdout"
        }
      ]
    },
    {
      "cell_type": "markdown",
      "metadata": {
        "id": "FsvTBu-Rs08y"
      },
      "source": [
        ""
      ]
    },
    {
      "cell_type": "code",
      "metadata": {
        "id": "N_dtPGKArjbx",
        "colab": {
          "base_uri": "https://localhost:8080/"
        },
        "outputId": "4425ff33-8ae3-4ced-def5-b2eb68e809d9"
      },
      "source": [
        "aNumber = input('please input a number: ')\n",
        "aNumber = int(aNumber)\n",
        "print(aNumber)\n",
        "print(type(aNumber))\n"
      ],
      "execution_count": 34,
      "outputs": [
        {
          "output_type": "stream",
          "text": [
            "please input a number: 3\n",
            "3\n",
            "<class 'int'>\n"
          ],
          "name": "stdout"
        }
      ]
    },
    {
      "cell_type": "code",
      "metadata": {
        "id": "HGEWYyulq9wP"
      },
      "source": [
        ""
      ],
      "execution_count": null,
      "outputs": []
    }
  ]
}